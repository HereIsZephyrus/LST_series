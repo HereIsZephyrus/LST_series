{
 "cells": [
  {
   "cell_type": "code",
   "execution_count": 1,
   "metadata": {},
   "outputs": [
    {
     "name": "stdout",
     "output_type": "stream",
     "text": [
      "start inializing\n",
      "initialized\n",
      "imported\n",
      "Ground elevation average: 143.17068051689284 m\n",
      "lst count 353\n",
      "data range 1640995200000 1672444800000\n",
      "reduced\n"
     ]
    },
    {
     "data": {
      "text/html": [
       "<div style=\"width:100%;\"><div style=\"position:relative;width:100%;height:0;padding-bottom:60%;\"><iframe src=\"data:text/html;charset=utf-8;base64,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\" style=\"position:absolute;width:100%;height:100%;left:0;top:0;border:none !important;\" allowfullscreen webkitallowfullscreen mozallowfullscreen></iframe></div></div>"
      ],
      "text/plain": [
       "<eefolium.eefolium.Map at 0x7f76e4e57350>"
      ]
     },
     "execution_count": 1,
     "metadata": {},
     "output_type": "execute_result"
    }
   ],
   "source": [
    "# -*- coding: utf-8 -*-\n",
    "import ee\n",
    "import eefolium as basicgeemap\n",
    "#import geemap\n",
    "print(\"start inializing\")\n",
    "ee.Initialize(project='ee-channingtong')\n",
    "print(\"initialized\")\n",
    "# Import the MODIS land surface temperature collection.\n",
    "lst = ee.ImageCollection('MODIS/061/MOD11A1')\n",
    "# Import the USGS ground elevation image.\n",
    "elv = ee.Image('USGS/SRTMGL1_003')\n",
    "# Import the YZB boundary.\n",
    "boundary = ee.FeatureCollection('projects/ee-channingtong/assets/YZBboundary')\n",
    "geometry = boundary.first().geometry()\n",
    "print(\"imported\")\n",
    "\n",
    "inital_date = '2022-01-01'\n",
    "final_date = '2023-01-01'\n",
    "lst = lst.select('LST_Day_1km', 'QC_Day').filterDate(inital_date, final_date).filterBounds(geometry)\n",
    "m_scale = 1000  # scale in meters\n",
    "elv = elv.reduceRegion(reducer=ee.Reducer.mean(), geometry=geometry, scale=m_scale)\n",
    "print('Ground elevation average:', elv.get('elevation').getInfo(), 'm')\n",
    "\n",
    "# Calculate and print the mean value of the LST collection at the point.\n",
    "lst_info = lst.getInfo();\n",
    "print(\"lst count\", len(lst_info['features']))\n",
    "print(\"data range\", lst_info['features'][0]['properties']['system:time_start'], lst_info['features'][-1]['properties']['system:time_start'])\n",
    "#lst = lst.map(lambda img: img.clip(boundary))\n",
    "#lst_info = lst.mean().get('LST_Day_1km').getInfo()\n",
    "#print(lst.getInfo())\n",
    "#print('Average daytime LST average:', round(lst.mean().get('LST_Day_1km').getInfo()*0.02 -273.15, 2), '°C')\n",
    "\n",
    "# Print the land cover type at the point.\n",
    "# lc_urban_point = lc.first().sample(u_poi, scale).first().get('LC_Type1').getInfo()\n",
    "# print('Land cover value average is:', lc_urban_point)\n",
    "print(\"reduced\")\n",
    "\n",
    "temperature = lst.first().select('LST_Day_1km')\n",
    "celsius = temperature.multiply(0.02).subtract(273.15)\n",
    "Map = basicgeemap.Map()\n",
    "Map.addLayer(celsius,\n",
    "             {'min': -20, 'max': 50, \n",
    "              'palettes': ['blue', 'green', 'yellow', 'orange', 'red']\n",
    "              },'temperature')\n",
    "'''\n",
    "Map.addLayer(boundary,\n",
    "          {\n",
    "        'color': 'blue',  # Outline color\n",
    "        'fillColor': 'lightblue',  # Fill color (if applicable)\n",
    "        'width': 2  # Outline width\n",
    "          },\n",
    "             'boundary')\n",
    "'''\n",
    "Map.centerObject(boundary, 8)\n",
    "Map"
   ]
  },
  {
   "cell_type": "code",
   "execution_count": 2,
   "metadata": {},
   "outputs": [],
   "source": [
    "import pandas as pd\n",
    "\n",
    "def ee_array_to_df(arr, list_of_bands):\n",
    "    \"\"\"Transforms client-side ee.Image.getRegion array to pandas.DataFrame.\"\"\"\n",
    "    df = pd.DataFrame(arr)\n",
    "\n",
    "    # Rearrange the header.\n",
    "    headers = df.iloc[0]\n",
    "    df = pd.DataFrame(df.values[1:], columns=headers)\n",
    "\n",
    "    # Remove rows without data inside.\n",
    "    df = df[['longitude', 'latitude', 'time', *list_of_bands]].dropna()\n",
    "\n",
    "    # Convert the data to numeric values.\n",
    "    for band in list_of_bands:\n",
    "        df[band] = pd.to_numeric(df[band], errors='coerce')\n",
    "\n",
    "    # Convert the time field into a datetime.\n",
    "    df['datetime'] = pd.to_datetime(df['time'], unit='ms')\n",
    "\n",
    "    # Keep the columns of interest.\n",
    "    df = df[['time','datetime',  *list_of_bands]]\n",
    "\n",
    "    return df"
   ]
  }
 ],
 "metadata": {
  "kernelspec": {
   "display_name": "gee",
   "language": "python",
   "name": "python3"
  },
  "language_info": {
   "codemirror_mode": {
    "name": "ipython",
    "version": 3
   },
   "file_extension": ".py",
   "mimetype": "text/x-python",
   "name": "python",
   "nbconvert_exporter": "python",
   "pygments_lexer": "ipython3",
   "version": "3.12.8"
  }
 },
 "nbformat": 4,
 "nbformat_minor": 4
}
